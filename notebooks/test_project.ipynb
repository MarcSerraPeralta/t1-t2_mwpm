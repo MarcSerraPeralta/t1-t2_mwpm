{
 "cells": [
  {
   "cell_type": "code",
   "execution_count": 33,
   "metadata": {},
   "outputs": [],
   "source": [
    "from t1t2_mwpm import Setup, DecoherenceModel, add_noise, get_matching\n",
    "from t1t2_mwpm.circuits.rep_code import init_qubits, qec_round, log_meas\n",
    "\n",
    "\n",
    "from stim import Circuit"
   ]
  },
  {
   "cell_type": "code",
   "execution_count": 2,
   "metadata": {},
   "outputs": [],
   "source": [
    "relax_times = [10000, 20000, 30000, 40000, 50000]\n",
    "deph_times = [10000, 20000, 30000, 40000, 50000]\n",
    "gate_durations = dict(X=100, H=100, CZ=200, M=1000, R=600)"
   ]
  },
  {
   "cell_type": "code",
   "execution_count": 3,
   "metadata": {},
   "outputs": [],
   "source": [
    "setup = Setup(relax_times, deph_times, gate_durations)\n",
    "model = DecoherenceModel(setup)"
   ]
  },
  {
   "cell_type": "code",
   "execution_count": 4,
   "metadata": {},
   "outputs": [],
   "source": [
    "data_inds = [0, 2, 4]\n",
    "anc_inds = [1, 3]\n",
    "\n",
    "qubit_inds = set(data_inds + anc_inds)"
   ]
  },
  {
   "cell_type": "code",
   "execution_count": 5,
   "metadata": {},
   "outputs": [],
   "source": [
    "data_init = [0, 0, 0]\n",
    "init_circ = init_qubits(model, data_inds, anc_inds, data_init=data_init)\n",
    "qec_circ = qec_round(model, data_inds, anc_inds)\n",
    "meas_circ = log_meas(model, data_inds, anc_inds, comp_rounds=1)\n",
    "\n",
    "constructed_circ = init_circ + qec_circ + meas_circ"
   ]
  },
  {
   "cell_type": "code",
   "execution_count": 23,
   "metadata": {},
   "outputs": [
    {
     "data": {
      "text/plain": [
       "stim.Circuit('''\n",
       "    R 0 2 4 1 3\n",
       "    TICK\n",
       "    H 1 3\n",
       "    TICK\n",
       "    CZ 0 1 2 3\n",
       "    TICK\n",
       "    CZ 1 2 3 4\n",
       "    TICK\n",
       "    H 1 3\n",
       "    TICK\n",
       "    M 1 3\n",
       "    DETECTOR rec[-2]\n",
       "    DETECTOR rec[-1]\n",
       "    TICK\n",
       "    R 1 3\n",
       "    TICK\n",
       "    M 0 2 4\n",
       "    DETECTOR rec[-2] rec[-3] rec[-5]\n",
       "    DETECTOR rec[-1] rec[-2] rec[-4]\n",
       "    OBSERVABLE_INCLUDE(0) rec[-3] rec[-2] rec[-1]\n",
       "    TICK\n",
       "''')"
      ]
     },
     "execution_count": 23,
     "metadata": {},
     "output_type": "execute_result"
    }
   ],
   "source": [
    "constructed_circ.without_noise()"
   ]
  },
  {
   "cell_type": "code",
   "execution_count": 24,
   "metadata": {},
   "outputs": [],
   "source": [
    "input_circuit = Circuit('''\n",
    "    R 0 2 4 1 3\n",
    "    TICK\n",
    "    H 1 3\n",
    "    TICK\n",
    "    CZ 0 1 2 3\n",
    "    TICK\n",
    "    CZ 1 2 3 4\n",
    "    TICK\n",
    "    H 1 3\n",
    "    TICK\n",
    "    M 1 3\n",
    "    DETECTOR rec[-2]\n",
    "    DETECTOR rec[-1]\n",
    "    TICK\n",
    "    R 1 3\n",
    "    TICK\n",
    "    M 0 2 4\n",
    "    DETECTOR rec[-2] rec[-3] rec[-5]\n",
    "    DETECTOR rec[-1] rec[-2] rec[-4]\n",
    "    OBSERVABLE_INCLUDE(0) rec[-3] rec[-2] rec[-1]\n",
    "    TICK\n",
    "''')"
   ]
  },
  {
   "cell_type": "code",
   "execution_count": 25,
   "metadata": {},
   "outputs": [],
   "source": [
    "noisy_circuit = add_noise(input_circuit, model)"
   ]
  },
  {
   "cell_type": "code",
   "execution_count": 26,
   "metadata": {},
   "outputs": [],
   "source": [
    "assert noisy_circuit.without_noise() == input_circuit"
   ]
  },
  {
   "cell_type": "code",
   "execution_count": 37,
   "metadata": {},
   "outputs": [],
   "source": [
    "matching = get_matching(noisy_circuit)"
   ]
  }
 ],
 "metadata": {
  "kernelspec": {
   "display_name": "t1t2-mwpm-kernel",
   "language": "python",
   "name": "t1t2-mwpm-kernel"
  },
  "language_info": {
   "codemirror_mode": {
    "name": "ipython",
    "version": 3
   },
   "file_extension": ".py",
   "mimetype": "text/x-python",
   "name": "python",
   "nbconvert_exporter": "python",
   "pygments_lexer": "ipython3",
   "version": "3.10.2"
  }
 },
 "nbformat": 4,
 "nbformat_minor": 2
}
